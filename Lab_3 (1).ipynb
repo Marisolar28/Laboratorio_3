{
 "cells": [
  {
   "cell_type": "code",
   "execution_count": null,
   "id": "91654722",
   "metadata": {},
   "outputs": [],
   "source": [
    "#Problema 1\n",
    "numero= int(input(\"Ingrese el numero:  \")) #ingrese el numero que quiere convertir a binario\n",
    "print(format(numero, \"0b\"))\n",
    "\n",
    "        "
   ]
  },
  {
   "cell_type": "code",
   "execution_count": 22,
   "id": "80edb76f",
   "metadata": {},
   "outputs": [
    {
     "name": "stdout",
     "output_type": "stream",
     "text": [
      "Ingresa un numero: 90\n",
      "¿El numero ingresado es numero primo? False\n"
     ]
    }
   ],
   "source": [
    "#*Problema 2*\n",
    "#crear una funcion para comprobar si un numero dado es primo\n",
    "def es_primo(numero):\n",
    "    if numero == 1:\n",
    "        return False\n",
    "    elif numero == 2:\n",
    "        return True\n",
    "    else:\n",
    "        for i in range(2, numero):\n",
    "            if numero % i == 0:\n",
    "                return False\n",
    "        return True\n",
    "numero=int(input(\"Ingresa un numero: \"))\n",
    "primo=es_primo(numero)\n",
    "print(\"¿El numero ingresado es numero primo?\", primo)"
   ]
  },
  {
   "cell_type": "code",
   "execution_count": 4,
   "id": "203d586e",
   "metadata": {},
   "outputs": [
    {
     "name": "stdout",
     "output_type": "stream",
     "text": [
      "Escribe la cantidad de numeros que introduciras:5\n",
      "Escribe los numeros a introducir:1\n",
      "Escribe los numeros a introducir:3\n",
      "Escribe los numeros a introducir:5\n",
      "Escribe los numeros a introducir:7\n",
      "Escribe los numeros a introducir:14\n",
      "\n",
      "La media de los datos es: 6.0\n",
      "\n",
      "La varianza: 20.0\n",
      "\n",
      "La desviacion estandar de los datos es: 4.47213595499958\n"
     ]
    }
   ],
   "source": [
    "#Problema 3\n",
    "import math\n",
    "question=int(input(\"Escribe la cantidad de numeros que introduciras:\"))\n",
    "funcion=[]\n",
    "for i in range(question):\n",
    "     funcion.append(int(input(\"Escribe los numeros a introducir:\")))\n",
    "var=0\n",
    "for i in funcion:\n",
    "    mean=sum(funcion)/len(funcion)\n",
    "    var +=((i-mean)**2)/len(funcion)\n",
    "stdeV= math.sqrt(var)\n",
    "print(\"\\nLa media de los datos es:\",mean)\n",
    "print(\"\\nLa varianza:\",var)\n",
    "print(\"\\nLa desviacion estandar de los datos es:\",stdeV)\n",
    "#print(mean)\n",
    "#print(var)\n",
    "             "
   ]
  },
  {
   "cell_type": "code",
   "execution_count": null,
   "id": "6b26fedc",
   "metadata": {},
   "outputs": [],
   "source": [
    "#Problema 4\n",
    "def ordenamiento_burbuja(lista): #Funcion ordenamiento burbuja\n",
    "    for y in range (len(lista) -1,0,-1):\n",
    "        for i in range(y):\n",
    "            if lista [i] > lista[i +1]:\n",
    "                temp= lista[i]\n",
    "                lista[i]= lista[i+1]\n",
    "                lista[i+1]= temp\n",
    "    return(lista)\n",
    "\n",
    "def main (): #Funcion Main\n",
    "    size=int(input(\"Digite el tamaño de la lista:\"))\n",
    "    x=0\n",
    "    values=[]\n",
    "    while x < size:\n",
    "        lista=int(input(\"Ingrese los numeros de la lista: \"))\n",
    "        values.append(lista)\n",
    "        x= x + 1\n",
    "    return values\n",
    "ordenamiento_burbuja(main()) #Comprobacion de ordenamiento burbuja\n",
    "\n",
    "            \n",
    "        "
   ]
  },
  {
   "cell_type": "code",
   "execution_count": null,
   "id": "1337c9d3",
   "metadata": {},
   "outputs": [],
   "source": [
    "#Problema #5\n",
    "tupla = (10,20,40,5,70)\n",
    "string_concat= \"\"\n",
    "for i in tupla:\n",
    "    string_concat= string_concat+str(i)\n",
    "print (string_concat)"
   ]
  },
  {
   "cell_type": "code",
   "execution_count": null,
   "id": "88da154f",
   "metadata": {},
   "outputs": [],
   "source": [
    "#Problema #6\n",
    "tupla= [(), (), ('X',), ('a', 'b'), ('a', 'b', 'c'), ('d')]\n",
    "tupla= [t for t in tupla if t]\n",
    "print (tupla)"
   ]
  },
  {
   "cell_type": "code",
   "execution_count": 19,
   "id": "2282fd8d",
   "metadata": {},
   "outputs": [],
   "source": [
    "#problema 7\n",
    "def mean_tupla (tupla_mean):\n",
    "    e = 0\n",
    "    mean = []\n",
    "    while e < len(tupla_mean):\n",
    "        mean.append(sum(tupla_mean[e]) / len(tupla_mean[e]))\n",
    "        resultado = tuple(mean)\n",
    "        e = e + 1\n",
    "    return resultado\n"
   ]
  },
  {
   "cell_type": "code",
   "execution_count": 20,
   "id": "3150e69b",
   "metadata": {},
   "outputs": [
    {
     "data": {
      "text/plain": [
       "(10.5, 44.0, 58.0)"
      ]
     },
     "execution_count": 20,
     "metadata": {},
     "output_type": "execute_result"
    }
   ],
   "source": [
    "tuplas_7= ((10, 10, 10, 12), (30, 45, 56, 45), (81, 80, 39, 32))\n",
    "mean_tupla(tuplas_7)"
   ]
  },
  {
   "cell_type": "code",
   "execution_count": null,
   "id": "ce623173",
   "metadata": {},
   "outputs": [],
   "source": []
  }
 ],
 "metadata": {
  "kernelspec": {
   "display_name": "Python 3 (ipykernel)",
   "language": "python",
   "name": "python3"
  },
  "language_info": {
   "codemirror_mode": {
    "name": "ipython",
    "version": 3
   },
   "file_extension": ".py",
   "mimetype": "text/x-python",
   "name": "python",
   "nbconvert_exporter": "python",
   "pygments_lexer": "ipython3",
   "version": "3.9.7"
  }
 },
 "nbformat": 4,
 "nbformat_minor": 5
}
